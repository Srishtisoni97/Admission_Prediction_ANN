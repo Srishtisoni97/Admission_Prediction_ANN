{
  "metadata": {
    "kernelspec": {
      "language": "python",
      "display_name": "Python 3",
      "name": "python3"
    },
    "language_info": {
      "name": "python",
      "version": "3.7.12",
      "mimetype": "text/x-python",
      "codemirror_mode": {
        "name": "ipython",
        "version": 3
      },
      "pygments_lexer": "ipython3",
      "nbconvert_exporter": "python",
      "file_extension": ".py"
    },
    "kaggle": {
      "accelerator": "none",
      "dataSources": [
        {
          "sourceId": 228180,
          "sourceType": "datasetVersion",
          "datasetId": 14872
        }
      ],
      "dockerImageVersionId": 30170,
      "isInternetEnabled": false,
      "language": "python",
      "sourceType": "notebook",
      "isGpuEnabled": false
    },
    "colab": {
      "name": "gre-admission-prediction",
      "provenance": [],
      "include_colab_link": true
    }
  },
  "nbformat_minor": 0,
  "nbformat": 4,
  "cells": [
    {
      "cell_type": "markdown",
      "metadata": {
        "id": "view-in-github",
        "colab_type": "text"
      },
      "source": [
        "<a href=\"https://colab.research.google.com/github/Srishtisoni97/Admission_Prediction_ANN/blob/main/gre_admission_prediction.ipynb\" target=\"_parent\"><img src=\"https://colab.research.google.com/assets/colab-badge.svg\" alt=\"Open In Colab\"/></a>"
      ]
    },
    {
      "source": [
        "# IMPORTANT: RUN THIS CELL IN ORDER TO IMPORT YOUR KAGGLE DATA SOURCES,\n",
        "# THEN FEEL FREE TO DELETE THIS CELL.\n",
        "# NOTE: THIS NOTEBOOK ENVIRONMENT DIFFERS FROM KAGGLE'S PYTHON\n",
        "# ENVIRONMENT SO THERE MAY BE MISSING LIBRARIES USED BY YOUR\n",
        "# NOTEBOOK.\n",
        "import kagglehub\n",
        "mohansacharya_graduate_admissions_path = kagglehub.dataset_download('mohansacharya/graduate-admissions')\n",
        "\n",
        "print('Data source import complete.')\n"
      ],
      "metadata": {
        "id": "eb5cTgCIIEVZ"
      },
      "cell_type": "code",
      "outputs": [],
      "execution_count": null
    },
    {
      "cell_type": "code",
      "source": [
        "# This Python 3 environment comes with many helpful analytics libraries installed\n",
        "# It is defined by the kaggle/python Docker image: https://github.com/kaggle/docker-python\n",
        "# For example, here's several helpful packages to load\n",
        "\n",
        "import numpy as np # linear algebra\n",
        "import pandas as pd # data processing, CSV file I/O (e.g. pd.read_csv)\n",
        "\n",
        "# Input data files are available in the read-only \"../input/\" directory\n",
        "# For example, running this (by clicking run or pressing Shift+Enter) will list all files under the input directory\n",
        "\n",
        "import os\n",
        "for dirname, _, filenames in os.walk('/kaggle/input'):\n",
        "    for filename in filenames:\n",
        "        print(os.path.join(dirname, filename))\n",
        "\n",
        "# You can write up to 20GB to the current directory (/kaggle/working/) that gets preserved as output when you create a version using \"Save & Run All\"\n",
        "# You can also write temporary files to /kaggle/temp/, but they won't be saved outside of the current session"
      ],
      "metadata": {
        "_uuid": "8f2839f25d086af736a60e9eeb907d3b93b6e0e5",
        "_cell_guid": "b1076dfc-b9ad-4769-8c92-a6c4dae69d19",
        "execution": {
          "iopub.status.busy": "2024-11-30T12:20:38.113886Z",
          "iopub.execute_input": "2024-11-30T12:20:38.114197Z",
          "iopub.status.idle": "2024-11-30T12:20:38.129949Z",
          "shell.execute_reply.started": "2024-11-30T12:20:38.114165Z",
          "shell.execute_reply": "2024-11-30T12:20:38.128872Z"
        },
        "trusted": true,
        "id": "clsnedhHIEVb",
        "outputId": "c318af91-c85e-4694-c327-d0ba388ab4cd"
      },
      "outputs": [
        {
          "name": "stdout",
          "text": "/kaggle/input/graduate-admissions/Admission_Predict.csv\n/kaggle/input/graduate-admissions/Admission_Predict_Ver1.1.csv\n",
          "output_type": "stream"
        }
      ],
      "execution_count": null
    },
    {
      "cell_type": "code",
      "source": [
        "df = pd.read_csv('/kaggle/input/graduate-admissions/Admission_Predict_Ver1.1.csv')"
      ],
      "metadata": {
        "execution": {
          "iopub.status.busy": "2024-11-30T12:20:38.132166Z",
          "iopub.execute_input": "2024-11-30T12:20:38.132455Z",
          "iopub.status.idle": "2024-11-30T12:20:38.141941Z",
          "shell.execute_reply.started": "2024-11-30T12:20:38.132412Z",
          "shell.execute_reply": "2024-11-30T12:20:38.140909Z"
        },
        "trusted": true,
        "id": "pKA4x5C_IEVc"
      },
      "outputs": [],
      "execution_count": null
    },
    {
      "cell_type": "code",
      "source": [
        "df.head()"
      ],
      "metadata": {
        "execution": {
          "iopub.status.busy": "2024-11-30T12:20:38.143269Z",
          "iopub.execute_input": "2024-11-30T12:20:38.143506Z",
          "iopub.status.idle": "2024-11-30T12:20:38.15918Z",
          "shell.execute_reply.started": "2024-11-30T12:20:38.143479Z",
          "shell.execute_reply": "2024-11-30T12:20:38.158205Z"
        },
        "trusted": true,
        "id": "keBn_yXXIEVd",
        "outputId": "d346e085-518b-40ee-8c8c-10b1fb517bce"
      },
      "outputs": [
        {
          "execution_count": 13,
          "output_type": "execute_result",
          "data": {
            "text/plain": "   Serial No.  GRE Score  TOEFL Score  University Rating  SOP  LOR   CGPA  \\\n0           1        337          118                  4  4.5   4.5  9.65   \n1           2        324          107                  4  4.0   4.5  8.87   \n2           3        316          104                  3  3.0   3.5  8.00   \n3           4        322          110                  3  3.5   2.5  8.67   \n4           5        314          103                  2  2.0   3.0  8.21   \n\n   Research  Chance of Admit   \n0         1              0.92  \n1         1              0.76  \n2         1              0.72  \n3         1              0.80  \n4         0              0.65  ",
            "text/html": "<div>\n<style scoped>\n    .dataframe tbody tr th:only-of-type {\n        vertical-align: middle;\n    }\n\n    .dataframe tbody tr th {\n        vertical-align: top;\n    }\n\n    .dataframe thead th {\n        text-align: right;\n    }\n</style>\n<table border=\"1\" class=\"dataframe\">\n  <thead>\n    <tr style=\"text-align: right;\">\n      <th></th>\n      <th>Serial No.</th>\n      <th>GRE Score</th>\n      <th>TOEFL Score</th>\n      <th>University Rating</th>\n      <th>SOP</th>\n      <th>LOR</th>\n      <th>CGPA</th>\n      <th>Research</th>\n      <th>Chance of Admit</th>\n    </tr>\n  </thead>\n  <tbody>\n    <tr>\n      <th>0</th>\n      <td>1</td>\n      <td>337</td>\n      <td>118</td>\n      <td>4</td>\n      <td>4.5</td>\n      <td>4.5</td>\n      <td>9.65</td>\n      <td>1</td>\n      <td>0.92</td>\n    </tr>\n    <tr>\n      <th>1</th>\n      <td>2</td>\n      <td>324</td>\n      <td>107</td>\n      <td>4</td>\n      <td>4.0</td>\n      <td>4.5</td>\n      <td>8.87</td>\n      <td>1</td>\n      <td>0.76</td>\n    </tr>\n    <tr>\n      <th>2</th>\n      <td>3</td>\n      <td>316</td>\n      <td>104</td>\n      <td>3</td>\n      <td>3.0</td>\n      <td>3.5</td>\n      <td>8.00</td>\n      <td>1</td>\n      <td>0.72</td>\n    </tr>\n    <tr>\n      <th>3</th>\n      <td>4</td>\n      <td>322</td>\n      <td>110</td>\n      <td>3</td>\n      <td>3.5</td>\n      <td>2.5</td>\n      <td>8.67</td>\n      <td>1</td>\n      <td>0.80</td>\n    </tr>\n    <tr>\n      <th>4</th>\n      <td>5</td>\n      <td>314</td>\n      <td>103</td>\n      <td>2</td>\n      <td>2.0</td>\n      <td>3.0</td>\n      <td>8.21</td>\n      <td>0</td>\n      <td>0.65</td>\n    </tr>\n  </tbody>\n</table>\n</div>"
          },
          "metadata": {}
        }
      ],
      "execution_count": null
    },
    {
      "cell_type": "code",
      "source": [
        "df.shape"
      ],
      "metadata": {
        "execution": {
          "iopub.status.busy": "2024-11-30T12:20:38.160379Z",
          "iopub.execute_input": "2024-11-30T12:20:38.160614Z",
          "iopub.status.idle": "2024-11-30T12:20:38.181926Z",
          "shell.execute_reply.started": "2024-11-30T12:20:38.160587Z",
          "shell.execute_reply": "2024-11-30T12:20:38.180812Z"
        },
        "trusted": true,
        "id": "W0-jXhXUIEVe",
        "outputId": "61c7b9dd-a546-4270-903f-63cc094f5e04"
      },
      "outputs": [
        {
          "execution_count": 14,
          "output_type": "execute_result",
          "data": {
            "text/plain": "(500, 9)"
          },
          "metadata": {}
        }
      ],
      "execution_count": null
    },
    {
      "cell_type": "code",
      "source": [
        "df.info()"
      ],
      "metadata": {
        "execution": {
          "iopub.status.busy": "2024-11-30T12:20:38.1851Z",
          "iopub.execute_input": "2024-11-30T12:20:38.185971Z",
          "iopub.status.idle": "2024-11-30T12:20:38.206621Z",
          "shell.execute_reply.started": "2024-11-30T12:20:38.185914Z",
          "shell.execute_reply": "2024-11-30T12:20:38.205525Z"
        },
        "trusted": true,
        "id": "kb7Zmsp1IEVe",
        "outputId": "2645a1cb-2317-476e-a4db-cd4d85ac3830"
      },
      "outputs": [
        {
          "name": "stdout",
          "text": "<class 'pandas.core.frame.DataFrame'>\nRangeIndex: 500 entries, 0 to 499\nData columns (total 9 columns):\n #   Column             Non-Null Count  Dtype  \n---  ------             --------------  -----  \n 0   Serial No.         500 non-null    int64  \n 1   GRE Score          500 non-null    int64  \n 2   TOEFL Score        500 non-null    int64  \n 3   University Rating  500 non-null    int64  \n 4   SOP                500 non-null    float64\n 5   LOR                500 non-null    float64\n 6   CGPA               500 non-null    float64\n 7   Research           500 non-null    int64  \n 8   Chance of Admit    500 non-null    float64\ndtypes: float64(4), int64(5)\nmemory usage: 35.3 KB\n",
          "output_type": "stream"
        }
      ],
      "execution_count": null
    },
    {
      "cell_type": "code",
      "source": [
        "df.duplicated().sum()"
      ],
      "metadata": {
        "execution": {
          "iopub.status.busy": "2024-11-30T12:20:38.207885Z",
          "iopub.execute_input": "2024-11-30T12:20:38.208259Z",
          "iopub.status.idle": "2024-11-30T12:20:38.226213Z",
          "shell.execute_reply.started": "2024-11-30T12:20:38.208215Z",
          "shell.execute_reply": "2024-11-30T12:20:38.225026Z"
        },
        "trusted": true,
        "id": "QYG4XhbuIEVe",
        "outputId": "92076878-373d-4549-8fc0-70d9cab4193f"
      },
      "outputs": [
        {
          "execution_count": 16,
          "output_type": "execute_result",
          "data": {
            "text/plain": "0"
          },
          "metadata": {}
        }
      ],
      "execution_count": null
    },
    {
      "cell_type": "code",
      "source": [
        "df.drop(columns=['Serial No.'],inplace=True)"
      ],
      "metadata": {
        "execution": {
          "iopub.status.busy": "2024-11-30T12:20:38.227377Z",
          "iopub.execute_input": "2024-11-30T12:20:38.2277Z",
          "iopub.status.idle": "2024-11-30T12:20:38.239738Z",
          "shell.execute_reply.started": "2024-11-30T12:20:38.227659Z",
          "shell.execute_reply": "2024-11-30T12:20:38.238854Z"
        },
        "trusted": true,
        "id": "ou4Uy-UXIEVe"
      },
      "outputs": [],
      "execution_count": null
    },
    {
      "cell_type": "code",
      "source": [
        "df.head()"
      ],
      "metadata": {
        "execution": {
          "iopub.status.busy": "2024-11-30T12:20:38.240919Z",
          "iopub.execute_input": "2024-11-30T12:20:38.241249Z",
          "iopub.status.idle": "2024-11-30T12:20:38.263037Z",
          "shell.execute_reply.started": "2024-11-30T12:20:38.24121Z",
          "shell.execute_reply": "2024-11-30T12:20:38.26168Z"
        },
        "trusted": true,
        "id": "v0sW9sDoIEVf",
        "outputId": "3b52dcfc-5b14-428b-dd67-468dd174bc37"
      },
      "outputs": [
        {
          "execution_count": 18,
          "output_type": "execute_result",
          "data": {
            "text/plain": "   GRE Score  TOEFL Score  University Rating  SOP  LOR   CGPA  Research  \\\n0        337          118                  4  4.5   4.5  9.65         1   \n1        324          107                  4  4.0   4.5  8.87         1   \n2        316          104                  3  3.0   3.5  8.00         1   \n3        322          110                  3  3.5   2.5  8.67         1   \n4        314          103                  2  2.0   3.0  8.21         0   \n\n   Chance of Admit   \n0              0.92  \n1              0.76  \n2              0.72  \n3              0.80  \n4              0.65  ",
            "text/html": "<div>\n<style scoped>\n    .dataframe tbody tr th:only-of-type {\n        vertical-align: middle;\n    }\n\n    .dataframe tbody tr th {\n        vertical-align: top;\n    }\n\n    .dataframe thead th {\n        text-align: right;\n    }\n</style>\n<table border=\"1\" class=\"dataframe\">\n  <thead>\n    <tr style=\"text-align: right;\">\n      <th></th>\n      <th>GRE Score</th>\n      <th>TOEFL Score</th>\n      <th>University Rating</th>\n      <th>SOP</th>\n      <th>LOR</th>\n      <th>CGPA</th>\n      <th>Research</th>\n      <th>Chance of Admit</th>\n    </tr>\n  </thead>\n  <tbody>\n    <tr>\n      <th>0</th>\n      <td>337</td>\n      <td>118</td>\n      <td>4</td>\n      <td>4.5</td>\n      <td>4.5</td>\n      <td>9.65</td>\n      <td>1</td>\n      <td>0.92</td>\n    </tr>\n    <tr>\n      <th>1</th>\n      <td>324</td>\n      <td>107</td>\n      <td>4</td>\n      <td>4.0</td>\n      <td>4.5</td>\n      <td>8.87</td>\n      <td>1</td>\n      <td>0.76</td>\n    </tr>\n    <tr>\n      <th>2</th>\n      <td>316</td>\n      <td>104</td>\n      <td>3</td>\n      <td>3.0</td>\n      <td>3.5</td>\n      <td>8.00</td>\n      <td>1</td>\n      <td>0.72</td>\n    </tr>\n    <tr>\n      <th>3</th>\n      <td>322</td>\n      <td>110</td>\n      <td>3</td>\n      <td>3.5</td>\n      <td>2.5</td>\n      <td>8.67</td>\n      <td>1</td>\n      <td>0.80</td>\n    </tr>\n    <tr>\n      <th>4</th>\n      <td>314</td>\n      <td>103</td>\n      <td>2</td>\n      <td>2.0</td>\n      <td>3.0</td>\n      <td>8.21</td>\n      <td>0</td>\n      <td>0.65</td>\n    </tr>\n  </tbody>\n</table>\n</div>"
          },
          "metadata": {}
        }
      ],
      "execution_count": null
    },
    {
      "cell_type": "code",
      "source": [
        "X = df.iloc[:,0:-1]\n",
        "y = df.iloc[:,-1]"
      ],
      "metadata": {
        "execution": {
          "iopub.status.busy": "2024-11-30T12:20:38.264538Z",
          "iopub.execute_input": "2024-11-30T12:20:38.264817Z",
          "iopub.status.idle": "2024-11-30T12:20:38.274321Z",
          "shell.execute_reply.started": "2024-11-30T12:20:38.264786Z",
          "shell.execute_reply": "2024-11-30T12:20:38.273369Z"
        },
        "trusted": true,
        "id": "U8XfltNGIEVf"
      },
      "outputs": [],
      "execution_count": null
    },
    {
      "cell_type": "code",
      "source": [
        "X"
      ],
      "metadata": {
        "execution": {
          "iopub.status.busy": "2024-11-30T12:20:38.275481Z",
          "iopub.execute_input": "2024-11-30T12:20:38.275789Z",
          "iopub.status.idle": "2024-11-30T12:20:38.302001Z",
          "shell.execute_reply.started": "2024-11-30T12:20:38.275711Z",
          "shell.execute_reply": "2024-11-30T12:20:38.300934Z"
        },
        "trusted": true,
        "id": "xbfe4WKPIEVg",
        "outputId": "ee703cda-90e3-4329-a74b-82b1fe32d59c"
      },
      "outputs": [
        {
          "execution_count": 20,
          "output_type": "execute_result",
          "data": {
            "text/plain": "     GRE Score  TOEFL Score  University Rating  SOP  LOR   CGPA  Research\n0          337          118                  4  4.5   4.5  9.65         1\n1          324          107                  4  4.0   4.5  8.87         1\n2          316          104                  3  3.0   3.5  8.00         1\n3          322          110                  3  3.5   2.5  8.67         1\n4          314          103                  2  2.0   3.0  8.21         0\n..         ...          ...                ...  ...   ...   ...       ...\n495        332          108                  5  4.5   4.0  9.02         1\n496        337          117                  5  5.0   5.0  9.87         1\n497        330          120                  5  4.5   5.0  9.56         1\n498        312          103                  4  4.0   5.0  8.43         0\n499        327          113                  4  4.5   4.5  9.04         0\n\n[500 rows x 7 columns]",
            "text/html": "<div>\n<style scoped>\n    .dataframe tbody tr th:only-of-type {\n        vertical-align: middle;\n    }\n\n    .dataframe tbody tr th {\n        vertical-align: top;\n    }\n\n    .dataframe thead th {\n        text-align: right;\n    }\n</style>\n<table border=\"1\" class=\"dataframe\">\n  <thead>\n    <tr style=\"text-align: right;\">\n      <th></th>\n      <th>GRE Score</th>\n      <th>TOEFL Score</th>\n      <th>University Rating</th>\n      <th>SOP</th>\n      <th>LOR</th>\n      <th>CGPA</th>\n      <th>Research</th>\n    </tr>\n  </thead>\n  <tbody>\n    <tr>\n      <th>0</th>\n      <td>337</td>\n      <td>118</td>\n      <td>4</td>\n      <td>4.5</td>\n      <td>4.5</td>\n      <td>9.65</td>\n      <td>1</td>\n    </tr>\n    <tr>\n      <th>1</th>\n      <td>324</td>\n      <td>107</td>\n      <td>4</td>\n      <td>4.0</td>\n      <td>4.5</td>\n      <td>8.87</td>\n      <td>1</td>\n    </tr>\n    <tr>\n      <th>2</th>\n      <td>316</td>\n      <td>104</td>\n      <td>3</td>\n      <td>3.0</td>\n      <td>3.5</td>\n      <td>8.00</td>\n      <td>1</td>\n    </tr>\n    <tr>\n      <th>3</th>\n      <td>322</td>\n      <td>110</td>\n      <td>3</td>\n      <td>3.5</td>\n      <td>2.5</td>\n      <td>8.67</td>\n      <td>1</td>\n    </tr>\n    <tr>\n      <th>4</th>\n      <td>314</td>\n      <td>103</td>\n      <td>2</td>\n      <td>2.0</td>\n      <td>3.0</td>\n      <td>8.21</td>\n      <td>0</td>\n    </tr>\n    <tr>\n      <th>...</th>\n      <td>...</td>\n      <td>...</td>\n      <td>...</td>\n      <td>...</td>\n      <td>...</td>\n      <td>...</td>\n      <td>...</td>\n    </tr>\n    <tr>\n      <th>495</th>\n      <td>332</td>\n      <td>108</td>\n      <td>5</td>\n      <td>4.5</td>\n      <td>4.0</td>\n      <td>9.02</td>\n      <td>1</td>\n    </tr>\n    <tr>\n      <th>496</th>\n      <td>337</td>\n      <td>117</td>\n      <td>5</td>\n      <td>5.0</td>\n      <td>5.0</td>\n      <td>9.87</td>\n      <td>1</td>\n    </tr>\n    <tr>\n      <th>497</th>\n      <td>330</td>\n      <td>120</td>\n      <td>5</td>\n      <td>4.5</td>\n      <td>5.0</td>\n      <td>9.56</td>\n      <td>1</td>\n    </tr>\n    <tr>\n      <th>498</th>\n      <td>312</td>\n      <td>103</td>\n      <td>4</td>\n      <td>4.0</td>\n      <td>5.0</td>\n      <td>8.43</td>\n      <td>0</td>\n    </tr>\n    <tr>\n      <th>499</th>\n      <td>327</td>\n      <td>113</td>\n      <td>4</td>\n      <td>4.5</td>\n      <td>4.5</td>\n      <td>9.04</td>\n      <td>0</td>\n    </tr>\n  </tbody>\n</table>\n<p>500 rows × 7 columns</p>\n</div>"
          },
          "metadata": {}
        }
      ],
      "execution_count": null
    },
    {
      "cell_type": "code",
      "source": [
        "y"
      ],
      "metadata": {
        "execution": {
          "iopub.status.busy": "2024-11-30T12:20:38.303203Z",
          "iopub.execute_input": "2024-11-30T12:20:38.303499Z",
          "iopub.status.idle": "2024-11-30T12:20:38.318378Z",
          "shell.execute_reply.started": "2024-11-30T12:20:38.303468Z",
          "shell.execute_reply": "2024-11-30T12:20:38.31731Z"
        },
        "trusted": true,
        "id": "7rC01Z8pIEVg",
        "outputId": "fa1f24d8-0ecb-4b8d-b0de-5d42e5e1644d"
      },
      "outputs": [
        {
          "execution_count": 21,
          "output_type": "execute_result",
          "data": {
            "text/plain": "0      0.92\n1      0.76\n2      0.72\n3      0.80\n4      0.65\n       ... \n495    0.87\n496    0.96\n497    0.93\n498    0.73\n499    0.84\nName: Chance of Admit , Length: 500, dtype: float64"
          },
          "metadata": {}
        }
      ],
      "execution_count": null
    },
    {
      "cell_type": "code",
      "source": [
        "from sklearn.model_selection import train_test_split\n",
        "X_train,X_test,y_train,y_test = train_test_split(X,y,test_size=0.2,random_state=1)"
      ],
      "metadata": {
        "execution": {
          "iopub.status.busy": "2024-11-30T12:20:38.319647Z",
          "iopub.execute_input": "2024-11-30T12:20:38.31989Z",
          "iopub.status.idle": "2024-11-30T12:20:39.78771Z",
          "shell.execute_reply.started": "2024-11-30T12:20:38.319848Z",
          "shell.execute_reply": "2024-11-30T12:20:39.786602Z"
        },
        "trusted": true,
        "id": "NEv6AIUPIEVh"
      },
      "outputs": [],
      "execution_count": null
    },
    {
      "cell_type": "code",
      "source": [
        "X_train"
      ],
      "metadata": {
        "execution": {
          "iopub.status.busy": "2024-11-30T12:20:39.789014Z",
          "iopub.execute_input": "2024-11-30T12:20:39.789313Z",
          "iopub.status.idle": "2024-11-30T12:20:39.806044Z",
          "shell.execute_reply.started": "2024-11-30T12:20:39.789282Z",
          "shell.execute_reply": "2024-11-30T12:20:39.805219Z"
        },
        "trusted": true,
        "id": "ESZ-agaNIEVh",
        "outputId": "5496ff04-c155-437c-e700-79796059c0c4"
      },
      "outputs": [
        {
          "execution_count": 23,
          "output_type": "execute_result",
          "data": {
            "text/plain": "     GRE Score  TOEFL Score  University Rating  SOP  LOR   CGPA  Research\n238        310          104                  3  2.0   3.5  8.37         0\n438        318          110                  1  2.5   3.5  8.54         1\n475        300          101                  3  3.5   2.5  7.88         0\n58         300           99                  1  3.0   2.0  6.80         1\n380        322          104                  3  3.5   4.0  8.84         1\n..         ...          ...                ...  ...   ...   ...       ...\n255        307          110                  4  4.0   4.5  8.37         0\n72         321          111                  5  5.0   5.0  9.45         1\n396        325          107                  3  3.0   3.5  9.11         1\n235        326          111                  5  4.5   4.0  9.23         1\n37         300          105                  1  1.0   2.0  7.80         0\n\n[400 rows x 7 columns]",
            "text/html": "<div>\n<style scoped>\n    .dataframe tbody tr th:only-of-type {\n        vertical-align: middle;\n    }\n\n    .dataframe tbody tr th {\n        vertical-align: top;\n    }\n\n    .dataframe thead th {\n        text-align: right;\n    }\n</style>\n<table border=\"1\" class=\"dataframe\">\n  <thead>\n    <tr style=\"text-align: right;\">\n      <th></th>\n      <th>GRE Score</th>\n      <th>TOEFL Score</th>\n      <th>University Rating</th>\n      <th>SOP</th>\n      <th>LOR</th>\n      <th>CGPA</th>\n      <th>Research</th>\n    </tr>\n  </thead>\n  <tbody>\n    <tr>\n      <th>238</th>\n      <td>310</td>\n      <td>104</td>\n      <td>3</td>\n      <td>2.0</td>\n      <td>3.5</td>\n      <td>8.37</td>\n      <td>0</td>\n    </tr>\n    <tr>\n      <th>438</th>\n      <td>318</td>\n      <td>110</td>\n      <td>1</td>\n      <td>2.5</td>\n      <td>3.5</td>\n      <td>8.54</td>\n      <td>1</td>\n    </tr>\n    <tr>\n      <th>475</th>\n      <td>300</td>\n      <td>101</td>\n      <td>3</td>\n      <td>3.5</td>\n      <td>2.5</td>\n      <td>7.88</td>\n      <td>0</td>\n    </tr>\n    <tr>\n      <th>58</th>\n      <td>300</td>\n      <td>99</td>\n      <td>1</td>\n      <td>3.0</td>\n      <td>2.0</td>\n      <td>6.80</td>\n      <td>1</td>\n    </tr>\n    <tr>\n      <th>380</th>\n      <td>322</td>\n      <td>104</td>\n      <td>3</td>\n      <td>3.5</td>\n      <td>4.0</td>\n      <td>8.84</td>\n      <td>1</td>\n    </tr>\n    <tr>\n      <th>...</th>\n      <td>...</td>\n      <td>...</td>\n      <td>...</td>\n      <td>...</td>\n      <td>...</td>\n      <td>...</td>\n      <td>...</td>\n    </tr>\n    <tr>\n      <th>255</th>\n      <td>307</td>\n      <td>110</td>\n      <td>4</td>\n      <td>4.0</td>\n      <td>4.5</td>\n      <td>8.37</td>\n      <td>0</td>\n    </tr>\n    <tr>\n      <th>72</th>\n      <td>321</td>\n      <td>111</td>\n      <td>5</td>\n      <td>5.0</td>\n      <td>5.0</td>\n      <td>9.45</td>\n      <td>1</td>\n    </tr>\n    <tr>\n      <th>396</th>\n      <td>325</td>\n      <td>107</td>\n      <td>3</td>\n      <td>3.0</td>\n      <td>3.5</td>\n      <td>9.11</td>\n      <td>1</td>\n    </tr>\n    <tr>\n      <th>235</th>\n      <td>326</td>\n      <td>111</td>\n      <td>5</td>\n      <td>4.5</td>\n      <td>4.0</td>\n      <td>9.23</td>\n      <td>1</td>\n    </tr>\n    <tr>\n      <th>37</th>\n      <td>300</td>\n      <td>105</td>\n      <td>1</td>\n      <td>1.0</td>\n      <td>2.0</td>\n      <td>7.80</td>\n      <td>0</td>\n    </tr>\n  </tbody>\n</table>\n<p>400 rows × 7 columns</p>\n</div>"
          },
          "metadata": {}
        }
      ],
      "execution_count": null
    },
    {
      "cell_type": "code",
      "source": [
        "from sklearn.preprocessing import MinMaxScaler\n",
        "scaler = MinMaxScaler()\n",
        "\n",
        "X_train_scaled = scaler.fit_transform(X_train)\n",
        "X_test_scaled = scaler.transform(X_test)"
      ],
      "metadata": {
        "execution": {
          "iopub.status.busy": "2024-11-30T12:20:39.808665Z",
          "iopub.execute_input": "2024-11-30T12:20:39.808924Z",
          "iopub.status.idle": "2024-11-30T12:20:39.825704Z",
          "shell.execute_reply.started": "2024-11-30T12:20:39.808892Z",
          "shell.execute_reply": "2024-11-30T12:20:39.824697Z"
        },
        "trusted": true,
        "id": "rUfYqJy1IEVh"
      },
      "outputs": [],
      "execution_count": null
    },
    {
      "cell_type": "code",
      "source": [
        "X_train_scaled"
      ],
      "metadata": {
        "execution": {
          "iopub.status.busy": "2024-11-30T12:20:39.827079Z",
          "iopub.execute_input": "2024-11-30T12:20:39.827722Z",
          "iopub.status.idle": "2024-11-30T12:20:39.844049Z",
          "shell.execute_reply.started": "2024-11-30T12:20:39.827678Z",
          "shell.execute_reply": "2024-11-30T12:20:39.843198Z"
        },
        "trusted": true,
        "id": "8D62r07iIEVh",
        "outputId": "e36cba08-7f17-4221-f683-0abc93db6b6d"
      },
      "outputs": [
        {
          "execution_count": 25,
          "output_type": "execute_result",
          "data": {
            "text/plain": "array([[0.4       , 0.42857143, 0.5       , ..., 0.57142857, 0.50320513,\n        0.        ],\n       [0.56      , 0.64285714, 0.        , ..., 0.57142857, 0.55769231,\n        1.        ],\n       [0.2       , 0.32142857, 0.5       , ..., 0.28571429, 0.34615385,\n        0.        ],\n       ...,\n       [0.7       , 0.53571429, 0.5       , ..., 0.57142857, 0.74038462,\n        1.        ],\n       [0.72      , 0.67857143, 1.        , ..., 0.71428571, 0.77884615,\n        1.        ],\n       [0.2       , 0.46428571, 0.        , ..., 0.14285714, 0.32051282,\n        0.        ]])"
          },
          "metadata": {}
        }
      ],
      "execution_count": null
    },
    {
      "cell_type": "code",
      "source": [
        "import tensorflow\n",
        "from tensorflow import keras\n",
        "from keras import Sequential\n",
        "from keras.layers import Dense"
      ],
      "metadata": {
        "execution": {
          "iopub.status.busy": "2024-11-30T12:20:39.845321Z",
          "iopub.execute_input": "2024-11-30T12:20:39.8456Z",
          "iopub.status.idle": "2024-11-30T12:20:47.382281Z",
          "shell.execute_reply.started": "2024-11-30T12:20:39.845547Z",
          "shell.execute_reply": "2024-11-30T12:20:47.381221Z"
        },
        "trusted": true,
        "id": "FsZ_K1UAIEVi"
      },
      "outputs": [],
      "execution_count": null
    },
    {
      "cell_type": "code",
      "source": [
        "model = Sequential()\n",
        "\n",
        "model.add(Dense(7,activation='relu',input_dim=7))\n",
        "model.add(Dense(7,activation='relu'))\n",
        "model.add(Dense(1,activation='linear'))"
      ],
      "metadata": {
        "execution": {
          "iopub.status.busy": "2024-11-30T12:20:47.383593Z",
          "iopub.execute_input": "2024-11-30T12:20:47.383858Z",
          "iopub.status.idle": "2024-11-30T12:20:47.523463Z",
          "shell.execute_reply.started": "2024-11-30T12:20:47.383829Z",
          "shell.execute_reply": "2024-11-30T12:20:47.522589Z"
        },
        "trusted": true,
        "id": "yM6AAbUjIEVi"
      },
      "outputs": [],
      "execution_count": null
    },
    {
      "cell_type": "code",
      "source": [
        "model.summary()"
      ],
      "metadata": {
        "execution": {
          "iopub.status.busy": "2024-11-30T12:20:47.524842Z",
          "iopub.execute_input": "2024-11-30T12:20:47.525713Z",
          "iopub.status.idle": "2024-11-30T12:20:47.534843Z",
          "shell.execute_reply.started": "2024-11-30T12:20:47.525665Z",
          "shell.execute_reply": "2024-11-30T12:20:47.533791Z"
        },
        "trusted": true,
        "id": "j-ACbCS7IEVi",
        "outputId": "517973a3-1b52-4e35-9de5-1bd38e50d864"
      },
      "outputs": [
        {
          "name": "stdout",
          "text": "Model: \"sequential\"\n_________________________________________________________________\nLayer (type)                 Output Shape              Param #   \n=================================================================\ndense (Dense)                (None, 7)                 56        \n_________________________________________________________________\ndense_1 (Dense)              (None, 7)                 56        \n_________________________________________________________________\ndense_2 (Dense)              (None, 1)                 8         \n=================================================================\nTotal params: 120\nTrainable params: 120\nNon-trainable params: 0\n_________________________________________________________________\n",
          "output_type": "stream"
        }
      ],
      "execution_count": null
    },
    {
      "cell_type": "code",
      "source": [
        "model.compile(loss='mean_squared_error',optimizer='Adam')"
      ],
      "metadata": {
        "execution": {
          "iopub.status.busy": "2024-11-30T12:20:47.536244Z",
          "iopub.execute_input": "2024-11-30T12:20:47.536556Z",
          "iopub.status.idle": "2024-11-30T12:20:47.561122Z",
          "shell.execute_reply.started": "2024-11-30T12:20:47.536512Z",
          "shell.execute_reply": "2024-11-30T12:20:47.560186Z"
        },
        "trusted": true,
        "id": "dBZz7xK2IEVi"
      },
      "outputs": [],
      "execution_count": null
    },
    {
      "cell_type": "code",
      "source": [
        "history = model.fit(X_train_scaled,y_train,epochs=100,validation_split=0.2)"
      ],
      "metadata": {
        "execution": {
          "iopub.status.busy": "2024-11-30T12:20:47.562626Z",
          "iopub.execute_input": "2024-11-30T12:20:47.562928Z",
          "iopub.status.idle": "2024-11-30T12:20:54.143283Z",
          "shell.execute_reply.started": "2024-11-30T12:20:47.562889Z",
          "shell.execute_reply": "2024-11-30T12:20:54.142192Z"
        },
        "trusted": true,
        "id": "BtRZtCtYIEVi",
        "outputId": "48f966e2-1c63-4eff-e1b7-64c55df2d8c0"
      },
      "outputs": [
        {
          "name": "stdout",
          "text": "Epoch 1/100\n10/10 [==============================] - 1s 23ms/step - loss: 0.7371 - val_loss: 0.7371\nEpoch 2/100\n10/10 [==============================] - 0s 6ms/step - loss: 0.6117 - val_loss: 0.6110\nEpoch 3/100\n10/10 [==============================] - 0s 8ms/step - loss: 0.5162 - val_loss: 0.5129\nEpoch 4/100\n10/10 [==============================] - 0s 6ms/step - loss: 0.4337 - val_loss: 0.4297\nEpoch 5/100\n10/10 [==============================] - 0s 6ms/step - loss: 0.3585 - val_loss: 0.3530\nEpoch 6/100\n10/10 [==============================] - 0s 5ms/step - loss: 0.2885 - val_loss: 0.2846\nEpoch 7/100\n10/10 [==============================] - 0s 6ms/step - loss: 0.2275 - val_loss: 0.2241\nEpoch 8/100\n10/10 [==============================] - 0s 6ms/step - loss: 0.1758 - val_loss: 0.1727\nEpoch 9/100\n10/10 [==============================] - 0s 6ms/step - loss: 0.1331 - val_loss: 0.1303\nEpoch 10/100\n10/10 [==============================] - 0s 6ms/step - loss: 0.0993 - val_loss: 0.0974\nEpoch 11/100\n10/10 [==============================] - 0s 6ms/step - loss: 0.0734 - val_loss: 0.0721\nEpoch 12/100\n10/10 [==============================] - 0s 6ms/step - loss: 0.0533 - val_loss: 0.0533\nEpoch 13/100\n10/10 [==============================] - 0s 5ms/step - loss: 0.0388 - val_loss: 0.0397\nEpoch 14/100\n10/10 [==============================] - 0s 6ms/step - loss: 0.0284 - val_loss: 0.0303\nEpoch 15/100\n10/10 [==============================] - 0s 5ms/step - loss: 0.0211 - val_loss: 0.0238\nEpoch 16/100\n10/10 [==============================] - 0s 6ms/step - loss: 0.0162 - val_loss: 0.0193\nEpoch 17/100\n10/10 [==============================] - 0s 6ms/step - loss: 0.0134 - val_loss: 0.0166\nEpoch 18/100\n10/10 [==============================] - 0s 6ms/step - loss: 0.0120 - val_loss: 0.0148\nEpoch 19/100\n10/10 [==============================] - 0s 8ms/step - loss: 0.0115 - val_loss: 0.0142\nEpoch 20/100\n10/10 [==============================] - 0s 5ms/step - loss: 0.0113 - val_loss: 0.0139\nEpoch 21/100\n10/10 [==============================] - 0s 5ms/step - loss: 0.0111 - val_loss: 0.0136\nEpoch 22/100\n10/10 [==============================] - 0s 6ms/step - loss: 0.0109 - val_loss: 0.0134\nEpoch 23/100\n10/10 [==============================] - 0s 6ms/step - loss: 0.0108 - val_loss: 0.0132\nEpoch 24/100\n10/10 [==============================] - 0s 6ms/step - loss: 0.0106 - val_loss: 0.0130\nEpoch 25/100\n10/10 [==============================] - 0s 6ms/step - loss: 0.0104 - val_loss: 0.0128\nEpoch 26/100\n10/10 [==============================] - 0s 6ms/step - loss: 0.0102 - val_loss: 0.0127\nEpoch 27/100\n10/10 [==============================] - 0s 6ms/step - loss: 0.0101 - val_loss: 0.0125\nEpoch 28/100\n10/10 [==============================] - 0s 6ms/step - loss: 0.0099 - val_loss: 0.0123\nEpoch 29/100\n10/10 [==============================] - 0s 6ms/step - loss: 0.0097 - val_loss: 0.0122\nEpoch 30/100\n10/10 [==============================] - 0s 6ms/step - loss: 0.0096 - val_loss: 0.0120\nEpoch 31/100\n10/10 [==============================] - 0s 6ms/step - loss: 0.0095 - val_loss: 0.0119\nEpoch 32/100\n10/10 [==============================] - 0s 6ms/step - loss: 0.0093 - val_loss: 0.0117\nEpoch 33/100\n10/10 [==============================] - 0s 6ms/step - loss: 0.0092 - val_loss: 0.0115\nEpoch 34/100\n10/10 [==============================] - 0s 6ms/step - loss: 0.0090 - val_loss: 0.0114\nEpoch 35/100\n10/10 [==============================] - 0s 6ms/step - loss: 0.0089 - val_loss: 0.0113\nEpoch 36/100\n10/10 [==============================] - 0s 6ms/step - loss: 0.0088 - val_loss: 0.0112\nEpoch 37/100\n10/10 [==============================] - 0s 6ms/step - loss: 0.0087 - val_loss: 0.0111\nEpoch 38/100\n10/10 [==============================] - 0s 6ms/step - loss: 0.0085 - val_loss: 0.0110\nEpoch 39/100\n10/10 [==============================] - 0s 6ms/step - loss: 0.0084 - val_loss: 0.0108\nEpoch 40/100\n10/10 [==============================] - 0s 6ms/step - loss: 0.0083 - val_loss: 0.0107\nEpoch 41/100\n10/10 [==============================] - 0s 6ms/step - loss: 0.0082 - val_loss: 0.0106\nEpoch 42/100\n10/10 [==============================] - 0s 6ms/step - loss: 0.0082 - val_loss: 0.0105\nEpoch 43/100\n10/10 [==============================] - 0s 6ms/step - loss: 0.0081 - val_loss: 0.0105\nEpoch 44/100\n10/10 [==============================] - 0s 6ms/step - loss: 0.0080 - val_loss: 0.0104\nEpoch 45/100\n10/10 [==============================] - 0s 6ms/step - loss: 0.0079 - val_loss: 0.0103\nEpoch 46/100\n10/10 [==============================] - 0s 6ms/step - loss: 0.0079 - val_loss: 0.0102\nEpoch 47/100\n10/10 [==============================] - 0s 6ms/step - loss: 0.0078 - val_loss: 0.0101\nEpoch 48/100\n10/10 [==============================] - 0s 6ms/step - loss: 0.0077 - val_loss: 0.0100\nEpoch 49/100\n10/10 [==============================] - 0s 6ms/step - loss: 0.0077 - val_loss: 0.0099\nEpoch 50/100\n10/10 [==============================] - 0s 6ms/step - loss: 0.0076 - val_loss: 0.0098\nEpoch 51/100\n10/10 [==============================] - 0s 6ms/step - loss: 0.0076 - val_loss: 0.0096\nEpoch 52/100\n10/10 [==============================] - 0s 6ms/step - loss: 0.0075 - val_loss: 0.0095\nEpoch 53/100\n10/10 [==============================] - 0s 6ms/step - loss: 0.0074 - val_loss: 0.0094\nEpoch 54/100\n10/10 [==============================] - 0s 6ms/step - loss: 0.0074 - val_loss: 0.0093\nEpoch 55/100\n10/10 [==============================] - 0s 6ms/step - loss: 0.0073 - val_loss: 0.0092\nEpoch 56/100\n10/10 [==============================] - 0s 5ms/step - loss: 0.0073 - val_loss: 0.0091\nEpoch 57/100\n10/10 [==============================] - 0s 6ms/step - loss: 0.0072 - val_loss: 0.0090\nEpoch 58/100\n10/10 [==============================] - 0s 6ms/step - loss: 0.0072 - val_loss: 0.0089\nEpoch 59/100\n10/10 [==============================] - 0s 6ms/step - loss: 0.0071 - val_loss: 0.0088\nEpoch 60/100\n10/10 [==============================] - 0s 6ms/step - loss: 0.0071 - val_loss: 0.0086\nEpoch 61/100\n10/10 [==============================] - 0s 6ms/step - loss: 0.0070 - val_loss: 0.0086\nEpoch 62/100\n10/10 [==============================] - 0s 6ms/step - loss: 0.0070 - val_loss: 0.0086\nEpoch 63/100\n10/10 [==============================] - 0s 6ms/step - loss: 0.0069 - val_loss: 0.0084\nEpoch 64/100\n10/10 [==============================] - 0s 6ms/step - loss: 0.0069 - val_loss: 0.0084\nEpoch 65/100\n10/10 [==============================] - 0s 6ms/step - loss: 0.0068 - val_loss: 0.0083\nEpoch 66/100\n10/10 [==============================] - 0s 6ms/step - loss: 0.0068 - val_loss: 0.0083\nEpoch 67/100\n10/10 [==============================] - 0s 6ms/step - loss: 0.0068 - val_loss: 0.0082\nEpoch 68/100\n10/10 [==============================] - 0s 6ms/step - loss: 0.0067 - val_loss: 0.0081\nEpoch 69/100\n10/10 [==============================] - 0s 6ms/step - loss: 0.0067 - val_loss: 0.0080\nEpoch 70/100\n10/10 [==============================] - 0s 6ms/step - loss: 0.0067 - val_loss: 0.0081\nEpoch 71/100\n10/10 [==============================] - 0s 6ms/step - loss: 0.0067 - val_loss: 0.0079\nEpoch 72/100\n10/10 [==============================] - 0s 6ms/step - loss: 0.0066 - val_loss: 0.0079\nEpoch 73/100\n10/10 [==============================] - 0s 6ms/step - loss: 0.0066 - val_loss: 0.0079\nEpoch 74/100\n10/10 [==============================] - 0s 6ms/step - loss: 0.0066 - val_loss: 0.0079\nEpoch 75/100\n10/10 [==============================] - 0s 6ms/step - loss: 0.0066 - val_loss: 0.0077\nEpoch 76/100\n10/10 [==============================] - 0s 6ms/step - loss: 0.0065 - val_loss: 0.0078\nEpoch 77/100\n10/10 [==============================] - 0s 6ms/step - loss: 0.0065 - val_loss: 0.0077\nEpoch 78/100\n10/10 [==============================] - 0s 6ms/step - loss: 0.0065 - val_loss: 0.0075\nEpoch 79/100\n10/10 [==============================] - 0s 6ms/step - loss: 0.0064 - val_loss: 0.0075\nEpoch 80/100\n10/10 [==============================] - 0s 6ms/step - loss: 0.0064 - val_loss: 0.0075\nEpoch 81/100\n10/10 [==============================] - 0s 5ms/step - loss: 0.0064 - val_loss: 0.0074\nEpoch 82/100\n10/10 [==============================] - 0s 6ms/step - loss: 0.0064 - val_loss: 0.0074\nEpoch 83/100\n10/10 [==============================] - 0s 6ms/step - loss: 0.0063 - val_loss: 0.0073\nEpoch 84/100\n10/10 [==============================] - 0s 6ms/step - loss: 0.0063 - val_loss: 0.0072\nEpoch 85/100\n10/10 [==============================] - 0s 6ms/step - loss: 0.0063 - val_loss: 0.0073\nEpoch 86/100\n10/10 [==============================] - 0s 6ms/step - loss: 0.0063 - val_loss: 0.0072\nEpoch 87/100\n10/10 [==============================] - 0s 6ms/step - loss: 0.0062 - val_loss: 0.0072\nEpoch 88/100\n10/10 [==============================] - 0s 5ms/step - loss: 0.0062 - val_loss: 0.0071\nEpoch 89/100\n10/10 [==============================] - 0s 6ms/step - loss: 0.0062 - val_loss: 0.0070\nEpoch 90/100\n10/10 [==============================] - 0s 6ms/step - loss: 0.0062 - val_loss: 0.0070\nEpoch 91/100\n10/10 [==============================] - 0s 5ms/step - loss: 0.0061 - val_loss: 0.0070\nEpoch 92/100\n10/10 [==============================] - 0s 5ms/step - loss: 0.0061 - val_loss: 0.0069\nEpoch 93/100\n10/10 [==============================] - 0s 6ms/step - loss: 0.0061 - val_loss: 0.0068\nEpoch 94/100\n10/10 [==============================] - 0s 5ms/step - loss: 0.0061 - val_loss: 0.0068\nEpoch 95/100\n10/10 [==============================] - 0s 6ms/step - loss: 0.0061 - val_loss: 0.0068\nEpoch 96/100\n10/10 [==============================] - 0s 6ms/step - loss: 0.0060 - val_loss: 0.0068\nEpoch 97/100\n10/10 [==============================] - 0s 6ms/step - loss: 0.0060 - val_loss: 0.0067\nEpoch 98/100\n10/10 [==============================] - 0s 6ms/step - loss: 0.0060 - val_loss: 0.0067\nEpoch 99/100\n10/10 [==============================] - 0s 6ms/step - loss: 0.0060 - val_loss: 0.0066\nEpoch 100/100\n10/10 [==============================] - 0s 6ms/step - loss: 0.0059 - val_loss: 0.0066\n",
          "output_type": "stream"
        }
      ],
      "execution_count": null
    },
    {
      "cell_type": "code",
      "source": [
        "y_pred = model.predict(X_test_scaled)"
      ],
      "metadata": {
        "execution": {
          "iopub.status.busy": "2024-11-30T12:20:54.145042Z",
          "iopub.execute_input": "2024-11-30T12:20:54.145434Z",
          "iopub.status.idle": "2024-11-30T12:20:54.297437Z",
          "shell.execute_reply.started": "2024-11-30T12:20:54.145389Z",
          "shell.execute_reply": "2024-11-30T12:20:54.296206Z"
        },
        "trusted": true,
        "id": "AD0WvGevIEVi"
      },
      "outputs": [],
      "execution_count": null
    },
    {
      "cell_type": "code",
      "source": [
        "from sklearn.metrics import r2_score\n",
        "r2_score(y_test,y_pred)"
      ],
      "metadata": {
        "execution": {
          "iopub.status.busy": "2024-11-30T12:20:54.298861Z",
          "iopub.execute_input": "2024-11-30T12:20:54.29914Z",
          "iopub.status.idle": "2024-11-30T12:20:54.306736Z",
          "shell.execute_reply.started": "2024-11-30T12:20:54.299079Z",
          "shell.execute_reply": "2024-11-30T12:20:54.305753Z"
        },
        "trusted": true,
        "id": "y8OhG_DNIEVi",
        "outputId": "8b4b6e9d-3739-4a58-8828-7737c51f63c9"
      },
      "outputs": [
        {
          "execution_count": 32,
          "output_type": "execute_result",
          "data": {
            "text/plain": "0.6867265574835371"
          },
          "metadata": {}
        }
      ],
      "execution_count": null
    },
    {
      "cell_type": "code",
      "source": [
        "import matplotlib.pyplot as plt\n",
        "plt.plot(history.history['loss'])\n",
        "plt.plot(history.history['val_loss'])"
      ],
      "metadata": {
        "execution": {
          "iopub.status.busy": "2024-11-30T12:20:54.30825Z",
          "iopub.execute_input": "2024-11-30T12:20:54.308571Z",
          "iopub.status.idle": "2024-11-30T12:20:54.579538Z",
          "shell.execute_reply.started": "2024-11-30T12:20:54.308522Z",
          "shell.execute_reply": "2024-11-30T12:20:54.578437Z"
        },
        "trusted": true,
        "id": "rt3nsn69IEVi",
        "outputId": "fbf8aef6-9c50-4b88-cc4b-a837ad1a2f76"
      },
      "outputs": [
        {
          "execution_count": 33,
          "output_type": "execute_result",
          "data": {
            "text/plain": "[<matplotlib.lines.Line2D at 0x7ee4e85fb150>]"
          },
          "metadata": {}
        },
        {
          "output_type": "display_data",
          "data": {
            "text/plain": "<Figure size 432x288 with 1 Axes>",
            "image/png": "[encoded data removed]"
          },
          "metadata": {
            "needs_background": "light"
          }
        }
      ],
      "execution_count": null
    },
    {
      "cell_type": "code",
      "source": [],
      "metadata": {
        "trusted": true,
        "id": "Pzcd8AS8IEVj"
      },
      "outputs": [],
      "execution_count": null
    }
  ]
}